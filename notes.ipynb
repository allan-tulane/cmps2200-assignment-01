{
 "cells": [
  {
   "cell_type": "code",
   "execution_count": null,
   "metadata": {},
   "outputs": [],
   "source": [
    "from multiprocessing.pool import ThreadPool\n",
    "\n",
    "def in_parallel(f1, arg1, f2, arg2):\n",
    "    with ThreadPool(2) as pool:\n",
    "        result1 = pool.apply_async(f1, [arg1])  # launch f1\n",
    "        result2 = pool.apply_async(f2, [arg2])  # launch f2\n",
    "        return (result1.get(), result2.get())   # wait for both to finish\n",
    "\n",
    "# recursive, parallel\n",
    "def sum_list_recursive_parallel(mylist):    \n",
    "    if len(mylist) == 1:\n",
    "        return mylist[0]\n",
    "    \n",
    "    # each thread spawns more threads\n",
    "    result1, result2 = in_parallel(\n",
    "        sum_list_recursive, mylist[:len(mylist)//2],\n",
    "        sum_list_recursive, mylist[len(mylist)//2:]\n",
    "    )\n",
    "    return result1 + result2\n",
    "\n",
    "sum_list_recursive(range(10))"
   ]
  },
  {
   "cell_type": "code",
   "execution_count": 11,
   "metadata": {},
   "outputs": [
    {
     "data": {
      "text/plain": [
       "3"
      ]
     },
     "execution_count": 11,
     "metadata": {},
     "output_type": "execute_result"
    }
   ],
   "source": [
    "def longest_run(mylist, key):\n",
    "    seq_len = 0\n",
    "    longest = 0\n",
    "    for v in mylist:\n",
    "        if v == key:\n",
    "            seq_len += 1\n",
    "        else:\n",
    "            if seq_len > longest:\n",
    "                longest = seq_len\n",
    "            seq_len = 0\n",
    "    return max(longest, seq_len) # account for sequence at end.\n",
    "            \n",
    "longest_run([2,12,12,8,12,12,12,0,12,1], 12) "
   ]
  },
  {
   "cell_type": "markdown",
   "metadata": {},
   "source": [
    "sequential longest run:\n",
    "\n",
    "$W(n) \\in O(n)$\n",
    "\n",
    "$S(n) \\in O(n)$\n"
   ]
  },
  {
   "cell_type": "code",
   "execution_count": 12,
   "metadata": {},
   "outputs": [
    {
     "data": {
      "text/plain": [
       "3"
      ]
     },
     "execution_count": 12,
     "metadata": {},
     "output_type": "execute_result"
    }
   ],
   "source": [
    "class Result:\n",
    "    def __init__(self, left_size, right_size, longest_size, is_entire_range):\n",
    "        self.left_size = left_size               # run on left side of input\n",
    "        self.right_size = right_size             # run on right side of input\n",
    "        self.longest_size = longest_size         # longest run in input\n",
    "        self.is_entire_range = is_entire_range   # True if the entire input matches the key\n",
    "        \n",
    "    def __repr__(self):\n",
    "        return('longest_size=%d left_size=%d right_size=%d is_entire_range=%s' %\n",
    "              (self.longest_size, self.left_size, self.right_size, self.is_entire_range))\n",
    "    \n",
    "    \n",
    "def longest_run_recursive(mylist, key):    \n",
    "    return _longest_run_recursive(mylist, key).longest_size\n",
    "\n",
    "def _longest_run_recursive(mylist, key):\n",
    "    # returns Result object\n",
    "    if len(mylist) == 1:\n",
    "        if mylist[0] == key:            \n",
    "            return Result(1, 1, 1, True)\n",
    "        else:\n",
    "            return Result(0, 0, 0, False)\n",
    "    \n",
    "    # each thread spawns more threads\n",
    "    result1 = _longest_run_recursive(mylist[:len(mylist)//2], key)\n",
    "    result2 = _longest_run_recursive(mylist[len(mylist)//2:], key)\n",
    "    return combine_results(result1, result2)\n",
    "    ###\n",
    "\n",
    "def combine_results(result1, result2):\n",
    "    res = None\n",
    "    if result1.is_entire_range and result2.is_entire_range:\n",
    "        total = result1.longest_size + result2.longest_size\n",
    "        return Result(total, total, total, True)\n",
    "    else:\n",
    "        # e.g., [12 6] [6 12] -> [12 6 6 12]\n",
    "        left_size = result1.left_size\n",
    "        right_size = result2.right_size\n",
    "\n",
    "        # e.g., [12 12] [12 6] -> [12 12 12 6]\n",
    "        if result1.is_entire_range:  \n",
    "            left_size += result2.left_size\n",
    "        \n",
    "        # e.g., [6 12] [12 12] -> [6 12 12 12]\n",
    "        if result2.is_entire_range:  \n",
    "            right_size += result1.right_size\n",
    "\n",
    "        # e.g., [6 12] [12 6] -> [6 12 12 6]\n",
    "        overlap = result1.right_size + result2.left_size\n",
    "\n",
    "        return Result(\n",
    "            left_size,\n",
    "            right_size,\n",
    "            max(overlap, result1.longest_size, result2.longest_size),\n",
    "            False\n",
    "        )\n",
    "\n",
    "longest_run_recursive([2,12,12,8,12,12,12,0,12,1], 12) "
   ]
  },
  {
   "cell_type": "code",
   "execution_count": 13,
   "metadata": {},
   "outputs": [
    {
     "data": {
      "text/plain": [
       "4"
      ]
     },
     "execution_count": 13,
     "metadata": {},
     "output_type": "execute_result"
    }
   ],
   "source": [
    "longest_run_recursive([6, 12, 12, 12, 12, 6, 6, 6], 12)"
   ]
  },
  {
   "cell_type": "markdown",
   "metadata": {},
   "source": [
    "`longest_run_recursive`\n",
    "\n",
    "$W(n) = 2 W (\\frac{n}{2}) + 1$\n",
    "\n",
    "Brick method:\n",
    "\n",
    "cost per level:\n",
    "1, 2, 4, 8, ... $2^i$\n",
    "\n",
    "growing (more than) geometrically, so **leaf dominated**\n",
    "\n",
    "number levels = $\\log n$\n",
    "\n",
    "number leaves = $2^{\\log n} = n \\in O(n)$\n",
    "\n",
    "\n",
    "\n",
    "<br><br><br>\n",
    "Span of *sequential* `longest_run_recursive` is same as above $(O(n)$.\n",
    "\n",
    "<br><br>\n",
    "\n",
    "Span of *parallel* `longest_run_recursive`: we run each recursive call in parallel:\n",
    "\n",
    "$S(n) = W(\\frac{n}{2}) + 1$\n",
    "\n",
    "cost per level: 1, 1, 1, 1, ...\n",
    "\n",
    "$\\rightarrow$ **balanced**\n",
    "\n",
    "cost is *number levels* $\\times$ max cost per level\n",
    "\n",
    "= $\\lg n \\times 1 \\in O(\\lg n)$\n",
    "\n"
   ]
  },
  {
   "cell_type": "markdown",
   "metadata": {},
   "source": [
    "<br><br><br><br>"
   ]
  },
  {
   "cell_type": "markdown",
   "metadata": {},
   "source": [
    "$\\mathit{foo}~x =   $  \n",
    "$~~~~\\texttt{if}{}~~x \\le 1~~\\texttt{then}{}$    \n",
    "$~~~~~~~~x$    \n",
    "$~~~~\\texttt{else}$    \n",
    "$~~~~~~~~\\texttt{let}{}~~(ra, rb) = (\\mathit{foo}~(x-1))~~,~~(\\mathit{foo}~(x-2))~~\\texttt{in}{}$  \n",
    "$~~~~~~~~~~~~ra + rb$  \n",
    "$~~~~~~~~\\texttt{end}{}.$   "
   ]
  },
  {
   "cell_type": "code",
   "execution_count": 34,
   "metadata": {},
   "outputs": [
    {
     "data": {
      "text/plain": [
       "1"
      ]
     },
     "execution_count": 34,
     "metadata": {},
     "output_type": "execute_result"
    }
   ],
   "source": [
    "def foo(x):\n",
    "    if x <= 1:\n",
    "        return x\n",
    "    else:\n",
    "        return foo(x-1) + foo(x-2)\n",
    "foo(1)"
   ]
  }
 ],
 "metadata": {
  "kernelspec": {
   "display_name": "Python 3",
   "language": "python",
   "name": "python3"
  },
  "language_info": {
   "codemirror_mode": {
    "name": "ipython",
    "version": 3
   },
   "file_extension": ".py",
   "mimetype": "text/x-python",
   "name": "python",
   "nbconvert_exporter": "python",
   "pygments_lexer": "ipython3",
   "version": "3.7.3"
  }
 },
 "nbformat": 4,
 "nbformat_minor": 4
}
